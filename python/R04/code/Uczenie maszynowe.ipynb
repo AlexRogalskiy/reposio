{
 "cells": [
  {
   "cell_type": "markdown",
   "metadata": {},
   "source": [
    "# Uczenie maszynowe"
   ]
  },
  {
   "cell_type": "markdown",
   "metadata": {},
   "source": [
    "## Pobieranie zbiorów danych"
   ]
  },
  {
   "cell_type": "code",
   "execution_count": 1,
   "metadata": {
    "collapsed": true
   },
   "outputs": [],
   "source": [
    "# Aby pobrać dane, będziesz potrzebował połączenia z internetem.\n",
    "# Pokazane polecenia zapisują większość zbiorów danych\n",
    "# do tego rozdziału w katalogu roboczym"
   ]
  },
  {
   "cell_type": "code",
   "execution_count": 1,
   "metadata": {
    "collapsed": true
   },
   "outputs": [],
   "source": [
    "import pickle\n",
    "import urllib\n",
    "from sklearn.datasets import fetch_mldata\n",
    "from sklearn.datasets import load_svmlight_file\n",
    "from sklearn.datasets import fetch_covtype\n",
    "from sklearn.datasets import fetch_20newsgroups"
   ]
  },
  {
   "cell_type": "code",
   "execution_count": 2,
   "metadata": {
    "collapsed": false
   },
   "outputs": [],
   "source": [
    "mnist = fetch_mldata(\"MNIST original\")\n",
    "pickle.dump(mnist, open( \"mnist.pickle\", \"wb\" ))"
   ]
  },
  {
   "cell_type": "code",
   "execution_count": 3,
   "metadata": {
    "collapsed": false
   },
   "outputs": [],
   "source": [
    "target_page = 'http://www.csie.ntu.edu.tw/~cjlin/libsvmtools/datasets/binary/ijcnn1.bz2'\n",
    "with urllib.request.urlopen(target_page) as response:\n",
    "    with open('ijcnn1.bz2','wb') as W:\n",
    "        W.write(response.read())"
   ]
  },
  {
   "cell_type": "code",
   "execution_count": 4,
   "metadata": {
    "collapsed": false
   },
   "outputs": [],
   "source": [
    "target_page = 'http://www.csie.ntu.edu.tw/~cjlin/libsvmtools/datasets/regression/cadata'\n",
    "cadata = load_svmlight_file(urllib.request.urlopen(target_page))\n",
    "pickle.dump(cadata, open( \"cadata.pickle\", \"wb\" ))"
   ]
  },
  {
   "cell_type": "code",
   "execution_count": 5,
   "metadata": {
    "collapsed": false
   },
   "outputs": [],
   "source": [
    "covertype_dataset = fetch_covtype(random_state=101, shuffle=True)\n",
    "pickle.dump(covertype_dataset, open( \"covertype_dataset.pickle\", \"wb\" ))"
   ]
  },
  {
   "cell_type": "code",
   "execution_count": 6,
   "metadata": {
    "collapsed": true
   },
   "outputs": [],
   "source": [
    "newsgroups_dataset = fetch_20newsgroups(shuffle=True, remove=('headers', 'footers', 'quotes'), random_state=6)\n",
    "pickle.dump(newsgroups_dataset, open( \"newsgroups_dataset.pickle\", \"wb\" ))"
   ]
  },
  {
   "cell_type": "markdown",
   "metadata": {},
   "source": [
    "## Regresja liniowa i logistyczna"
   ]
  },
  {
   "cell_type": "code",
   "execution_count": 7,
   "metadata": {
    "collapsed": false
   },
   "outputs": [],
   "source": [
    "from sklearn.datasets import load_boston\n",
    "boston = load_boston()\n",
    "from sklearn.cross_validation import train_test_split\n",
    "X_train, X_test, Y_train, Y_test = train_test_split(boston.data, \n",
    "                    boston.target, test_size=0.2, random_state=0)"
   ]
  },
  {
   "cell_type": "code",
   "execution_count": 8,
   "metadata": {
    "collapsed": false
   },
   "outputs": [
    {
     "name": "stdout",
     "output_type": "stream",
     "text": [
      "MAE 3.84281058945\n"
     ]
    }
   ],
   "source": [
    "from sklearn.linear_model import LinearRegression\n",
    "regr = LinearRegression()\n",
    "regr.fit(X_train, Y_train)\n",
    "Y_pred = regr.predict(X_test)\n",
    "from sklearn.metrics import mean_absolute_error\n",
    "print (\"MAE\", mean_absolute_error(Y_test, Y_pred))"
   ]
  },
  {
   "cell_type": "code",
   "execution_count": 9,
   "metadata": {
    "collapsed": false
   },
   "outputs": [
    {
     "name": "stdout",
     "output_type": "stream",
     "text": [
      "The slowest run took 8.26 times longer than the fastest. This could mean that an intermediate result is being cached.\n",
      "1000 loops, best of 3: 1.05 ms per loop\n",
      "Compiler time: 0.14 s\n"
     ]
    }
   ],
   "source": [
    "%timeit regr.fit(X_train, Y_train) "
   ]
  },
  {
   "cell_type": "code",
   "execution_count": 10,
   "metadata": {
    "collapsed": false
   },
   "outputs": [],
   "source": [
    "import numpy as np\n",
    "avg_price_house = np.average(boston.target)\n",
    "high_priced_idx = (Y_train >= avg_price_house)\n",
    "Y_train[high_priced_idx] = 1\n",
    "Y_train[np.logical_not(high_priced_idx)] = 0\n",
    "Y_train = Y_train.astype(np.int8)\n",
    "high_priced_idx = (Y_test >= avg_price_house)\n",
    "Y_test[high_priced_idx] = 1\n",
    "Y_test[np.logical_not(high_priced_idx)] = 0\n",
    "Y_test = Y_test.astype(np.int8)"
   ]
  },
  {
   "cell_type": "code",
   "execution_count": 11,
   "metadata": {
    "collapsed": false
   },
   "outputs": [
    {
     "name": "stdout",
     "output_type": "stream",
     "text": [
      "             precision    recall  f1-score   support\n",
      "\n",
      "          0       0.81      0.90      0.85        61\n",
      "          1       0.82      0.68      0.75        41\n",
      "\n",
      "avg / total       0.81      0.81      0.81       102\n",
      "\n"
     ]
    }
   ],
   "source": [
    "from sklearn.linear_model import LogisticRegression\n",
    "clf = LogisticRegression()\n",
    "clf.fit(X_train, Y_train)\n",
    "Y_pred = clf.predict(X_test)\n",
    "from sklearn.metrics import classification_report\n",
    "print (classification_report(Y_test, Y_pred))"
   ]
  },
  {
   "cell_type": "code",
   "execution_count": 12,
   "metadata": {
    "collapsed": false
   },
   "outputs": [
    {
     "name": "stdout",
     "output_type": "stream",
     "text": [
      "100 loops, best of 3: 3.29 ms per loop\n"
     ]
    }
   ],
   "source": [
    "%timeit clf.fit(X_train, Y_train)"
   ]
  },
  {
   "cell_type": "markdown",
   "metadata": {},
   "source": [
    "## Naiwny klasyfikator bayesowski"
   ]
  },
  {
   "cell_type": "code",
   "execution_count": 13,
   "metadata": {
    "collapsed": false
   },
   "outputs": [],
   "source": [
    "from sklearn import datasets\n",
    "iris = datasets.load_iris()\n",
    "from sklearn.cross_validation import train_test_split\n",
    "X_train, X_test, Y_train, Y_test = train_test_split(iris.data, \n",
    "                    iris.target, test_size=0.2, random_state=0)"
   ]
  },
  {
   "cell_type": "code",
   "execution_count": 14,
   "metadata": {
    "collapsed": false
   },
   "outputs": [],
   "source": [
    "from sklearn.naive_bayes import GaussianNB\n",
    "clf = GaussianNB()\n",
    "clf.fit(X_train, Y_train)\n",
    "Y_pred = clf.predict(X_test)"
   ]
  },
  {
   "cell_type": "code",
   "execution_count": 15,
   "metadata": {
    "collapsed": false
   },
   "outputs": [
    {
     "name": "stdout",
     "output_type": "stream",
     "text": [
      "             precision    recall  f1-score   support\n",
      "\n",
      "          0       1.00      1.00      1.00        11\n",
      "          1       0.93      1.00      0.96        13\n",
      "          2       1.00      0.83      0.91         6\n",
      "\n",
      "avg / total       0.97      0.97      0.97        30\n",
      "\n"
     ]
    }
   ],
   "source": [
    "from sklearn.metrics import classification_report\n",
    "print (classification_report(Y_test, Y_pred))"
   ]
  },
  {
   "cell_type": "code",
   "execution_count": 16,
   "metadata": {
    "collapsed": false
   },
   "outputs": [
    {
     "name": "stdout",
     "output_type": "stream",
     "text": [
      "1000 loops, best of 3: 733 µs per loop\n"
     ]
    }
   ],
   "source": [
    "%timeit clf.fit(X_train, Y_train)"
   ]
  },
  {
   "cell_type": "markdown",
   "metadata": {},
   "source": [
    "## Algorytm k najbliższych sąsiadów"
   ]
  },
  {
   "cell_type": "code",
   "execution_count": 17,
   "metadata": {
    "collapsed": false
   },
   "outputs": [],
   "source": [
    "from sklearn.utils import shuffle\n",
    "from sklearn.cross_validation import train_test_split"
   ]
  },
  {
   "cell_type": "code",
   "execution_count": 18,
   "metadata": {
    "collapsed": false
   },
   "outputs": [],
   "source": [
    "# Importowanie obiektu mnist\n",
    "# wcześniej przetworzonego i zapisanego na dysku\n",
    "import pickle\n",
    "mnist = pickle.load(open( \"mnist.pickle\", \"rb\" ))"
   ]
  },
  {
   "cell_type": "code",
   "execution_count": 19,
   "metadata": {
    "collapsed": false
   },
   "outputs": [],
   "source": [
    "mnist.data, mnist.target = shuffle(mnist.data, mnist.target)"
   ]
  },
  {
   "cell_type": "code",
   "execution_count": 20,
   "metadata": {
    "collapsed": false
   },
   "outputs": [],
   "source": [
    "# Redukowanie wielkości zbioru danych (w przeciwnym razie czas pracy będzie zbyt długi)\n",
    "mnist.data = mnist.data[:1000]\n",
    "mnist.target = mnist.target[:1000]\n",
    "X_train, X_test, Y_train, Y_test = train_test_split(mnist.data, \n",
    "                    mnist.target, test_size=0.8, random_state=0)"
   ]
  },
  {
   "cell_type": "code",
   "execution_count": 21,
   "metadata": {
    "collapsed": false
   },
   "outputs": [],
   "source": [
    "from sklearn.neighbors import KNeighborsClassifier\n",
    "# KNN: K=10, domyślna miara odległości (odległość euklidesowa)\n",
    "clf = KNeighborsClassifier(3)\n",
    "clf.fit(X_train, Y_train)\n",
    "Y_pred = clf.predict(X_test)"
   ]
  },
  {
   "cell_type": "code",
   "execution_count": 22,
   "metadata": {
    "collapsed": false
   },
   "outputs": [
    {
     "name": "stdout",
     "output_type": "stream",
     "text": [
      "             precision    recall  f1-score   support\n",
      "\n",
      "        0.0       0.70      0.82      0.75        67\n",
      "        1.0       0.55      0.99      0.70        89\n",
      "        2.0       0.75      0.49      0.59        88\n",
      "        3.0       0.61      0.82      0.70        89\n",
      "        4.0       0.77      0.45      0.57        75\n",
      "        5.0       0.71      0.43      0.54        79\n",
      "        6.0       0.94      0.89      0.91        83\n",
      "        7.0       0.85      0.82      0.83        94\n",
      "        8.0       0.97      0.48      0.64        65\n",
      "        9.0       0.50      0.63      0.56        71\n",
      "\n",
      "avg / total       0.73      0.69      0.69       800\n",
      "\n"
     ]
    }
   ],
   "source": [
    "from sklearn.metrics import classification_report\n",
    "print (classification_report(Y_test, Y_pred))"
   ]
  },
  {
   "cell_type": "code",
   "execution_count": 23,
   "metadata": {
    "collapsed": false
   },
   "outputs": [
    {
     "name": "stdout",
     "output_type": "stream",
     "text": [
      "100 loops, best of 3: 3.77 ms per loop\n"
     ]
    }
   ],
   "source": [
    "%timeit clf.fit(X_train, Y_train)"
   ]
  },
  {
   "cell_type": "code",
   "execution_count": 24,
   "metadata": {
    "collapsed": false
   },
   "outputs": [
    {
     "name": "stdout",
     "output_type": "stream",
     "text": [
      "1 loop, best of 3: 224 ms per loop\n"
     ]
    }
   ],
   "source": [
    "%timeit clf.predict(X_test)"
   ]
  },
  {
   "cell_type": "markdown",
   "metadata": {},
   "source": [
    "## Zaawansowane algorytmy nieliniowe"
   ]
  },
  {
   "cell_type": "markdown",
   "metadata": {},
   "source": [
    "### Używanie algorytmu SVM do klasyfikowania"
   ]
  },
  {
   "cell_type": "code",
   "execution_count": 25,
   "metadata": {
    "collapsed": false
   },
   "outputs": [],
   "source": [
    "from sklearn.datasets import load_svmlight_file\n",
    "X_train, y_train = load_svmlight_file('ijcnn1.bz2')\n",
    "first_rows = 2500\n",
    "X_train, y_train = X_train[:first_rows,:], y_train[:first_rows]"
   ]
  },
  {
   "cell_type": "code",
   "execution_count": 26,
   "metadata": {
    "collapsed": false
   },
   "outputs": [
    {
     "name": "stdout",
     "output_type": "stream",
     "text": [
      "SVC z funkcją rbf -> trafność w walidacji krzyżowej: średnia = 0.910 odch. st. = 0.001\n"
     ]
    }
   ],
   "source": [
    "import numpy as np\n",
    "from sklearn.cross_validation import cross_val_score\n",
    "from sklearn.svm import SVC\n",
    "hypothesis = SVC(kernel='rbf', random_state=101)\n",
    "scores = cross_val_score(hypothesis, X_train, y_train, cv=5, scoring='accuracy')\n",
    "print (\"SVC z funkcją rbf -> trafność w walidacji krzyżowej: średnia = %0.3f \\\n",
    "odch. st. = %0.3f\" % (np.mean(scores), np.std(scores)))"
   ]
  },
  {
   "cell_type": "code",
   "execution_count": 27,
   "metadata": {
    "collapsed": false
   },
   "outputs": [],
   "source": [
    "import pickle\n",
    "covertype_dataset = pickle.load(open( \"covertype_dataset.pickle\", \"rb\" ))\n",
    "covertype_X = covertype_dataset.data[:25000,:]\n",
    "covertype_y = covertype_dataset.target[:25000] -1 "
   ]
  },
  {
   "cell_type": "code",
   "execution_count": 28,
   "metadata": {
    "collapsed": false
   },
   "outputs": [
    {
     "name": "stdout",
     "output_type": "stream",
     "text": [
      "Pierwotny zbiór danych: (581012, 54)\n",
      "Próbka: (25000, 54)\n",
      "Częstotliwość docelowych wartości: [('Spruce/Fir', 9107), ('Lodgepole Pine', 12122), ('Ponderosa Pine', 1583), ('Cottonwood/Willow', 120), ('Aspen', 412), ('Douglas-fir', 779), ('Krummholz', 877)]\n"
     ]
    }
   ],
   "source": [
    "import numpy as np\n",
    "covertypes = ['Spruce/Fir', 'Lodgepole Pine', 'Ponderosa Pine', \n",
    "        'Cottonwood/Willow', 'Aspen', 'Douglas-fir', 'Krummholz']\n",
    "print ('Pierwotny zbiór danych:', covertype_dataset.data.shape)\n",
    "print ('Próbka:', covertype_X.shape)\n",
    "print('Częstotliwość docelowych wartości:', list(zip(covertypes,np.bincount(covertype_y))))"
   ]
  },
  {
   "cell_type": "code",
   "execution_count": 29,
   "metadata": {
    "collapsed": false
   },
   "outputs": [
    {
     "name": "stdout",
     "output_type": "stream",
     "text": [
      "LinearSVC -> trafność w walidacji krzyżowej: średnia = 0.645 odch. st. = 0.007\n"
     ]
    }
   ],
   "source": [
    "from sklearn.cross_validation import cross_val_score, StratifiedKFold\n",
    "from sklearn.svm import LinearSVC\n",
    "hypothesis = LinearSVC(dual=False, class_weight='balanced')\n",
    "cv_strata = StratifiedKFold(covertype_y, n_folds=3, shuffle=True, random_state=101)\n",
    "scores = cross_val_score(hypothesis, covertype_X, covertype_y, cv=cv_strata, scoring='accuracy')\n",
    "print (\"LinearSVC -> trafność w walidacji krzyżowej: średnia = %0.3f \\\n",
    "odch. st. = %0.3f\" % (np.mean(scores), np.std(scores)))"
   ]
  },
  {
   "cell_type": "markdown",
   "metadata": {},
   "source": [
    "### Używanie algorytmu SVM w regresji"
   ]
  },
  {
   "cell_type": "code",
   "execution_count": 30,
   "metadata": {
    "collapsed": false
   },
   "outputs": [],
   "source": [
    "import pickle\n",
    "X_train, y_train = pickle.load(open( \"cadata.pickle\", \"rb\" ))\n",
    "from sklearn.preprocessing import scale\n",
    "first_rows = 2000\n",
    "X_train = scale(X_train[:first_rows,:].toarray())\n",
    "y_train = y_train[:first_rows]/10**4.0"
   ]
  },
  {
   "cell_type": "code",
   "execution_count": 31,
   "metadata": {
    "collapsed": false
   },
   "outputs": [
    {
     "name": "stdout",
     "output_type": "stream",
     "text": [
      "SVR -> trafność w walidacji krzyżowej: średnia = -4.618 odch. st. = 0.347\n"
     ]
    }
   ],
   "source": [
    "import numpy as np\n",
    "from sklearn.cross_validation import cross_val_score\n",
    "from sklearn.svm import SVR\n",
    "hypothesis = SVR()\n",
    "scores = cross_val_score(hypothesis, X_train, y_train, cv=3, \n",
    "                        scoring='mean_absolute_error')\n",
    "print (\"SVR -> trafność w walidacji krzyżowej: średnia = %0.3f \\\n",
    "odch. st. = %0.3f\" % (np.mean(scores), np.std(scores)))"
   ]
  },
  {
   "cell_type": "markdown",
   "metadata": {},
   "source": [
    "### Dostrajanie algorytmu SVM"
   ]
  },
  {
   "cell_type": "code",
   "execution_count": 32,
   "metadata": {
    "collapsed": false
   },
   "outputs": [
    {
     "name": "stdout",
     "output_type": "stream",
     "text": [
      "Najlepsze parametry {'C': 100, 'gamma': 0.01}\n",
      "Trafność w walidacji krzyżowej: średnia = 0.989\n"
     ]
    }
   ],
   "source": [
    "from sklearn.svm import SVC\n",
    "from sklearn.grid_search import RandomizedSearchCV\n",
    "X_train, y_train = load_svmlight_file('ijcnn1.bz2')\n",
    "first_rows = 2500\n",
    "X_train, y_train = X_train[:first_rows,:], y_train[:first_rows]\n",
    "hypothesis = SVC(kernel='rbf', random_state=101)\n",
    "search_dict = {'C': [0.01, 0.1, 1, 10, 100], \n",
    "               'gamma': [0.1, 0.01, 0.001, 0.0001]}\n",
    "search_func = RandomizedSearchCV(estimator=hypothesis, \n",
    "              param_distributions=search_dict, n_iter=10, scoring='accuracy',\n",
    "              n_jobs=-1, iid=True, refit=True, cv=5, random_state=101)\n",
    "search_func.fit(X_train, y_train)\n",
    "print ('Najlepsze parametry %s' % search_func.best_params_)\n",
    "print ('Trafność w walidacji krzyżowej: średnia = %0.3f' % search_func.best_score_)"
   ]
  },
  {
   "cell_type": "markdown",
   "metadata": {},
   "source": [
    "## Strategie oparte na zestawach"
   ]
  },
  {
   "cell_type": "code",
   "execution_count": 33,
   "metadata": {
    "collapsed": false
   },
   "outputs": [
    {
     "name": "stdout",
     "output_type": "stream",
     "text": [
      "Forest covertype dataset.\n",
      "\n",
      "A classic dataset for classification benchmarks, featuring categorical and\n",
      "real-valued features.\n",
      "\n",
      "The dataset page is available from UCI Machine Learning Repository\n",
      "\n",
      "    http://archive.ics.uci.edu/ml/datasets/Covertype\n",
      "\n",
      "Courtesy of Jock A. Blackard and Colorado State University.\n",
      "\n"
     ]
    }
   ],
   "source": [
    "import pickle\n",
    "covertype_dataset = pickle.load(open( \"covertype_dataset.pickle\", \"rb\" ))\n",
    "print (covertype_dataset.DESCR)\n",
    "covertype_X = covertype_dataset.data[:15000,:]\n",
    "covertype_y = covertype_dataset.target[:15000]\n",
    "covertypes = ['Spruce/Fir', 'Lodgepole Pine', 'Ponderosa Pine', \n",
    "        'Cottonwood/Willow', 'Aspen', 'Douglas-fir', 'Krummholz']"
   ]
  },
  {
   "cell_type": "markdown",
   "metadata": {},
   "source": [
    "### Bagging z użyciem słabych klasyfikatorów"
   ]
  },
  {
   "cell_type": "code",
   "execution_count": 34,
   "metadata": {
    "collapsed": false
   },
   "outputs": [
    {
     "name": "stdout",
     "output_type": "stream",
     "text": [
      "BaggingClassifier -> trafność w walidacji krzyżowej: średnia = 0.793 odch. st. = 0.001\n"
     ]
    }
   ],
   "source": [
    "import numpy as np\n",
    "from sklearn.cross_validation import cross_val_score\n",
    "from sklearn.ensemble import BaggingClassifier\n",
    "from sklearn.neighbors import KNeighborsClassifier\n",
    "hypothesis = BaggingClassifier(KNeighborsClassifier(n_neighbors=1), \n",
    "            max_samples=0.7, max_features=0.7, n_estimators=100)\n",
    "scores = cross_val_score(hypothesis, covertype_X, covertype_y, cv=3, \n",
    "                         scoring='accuracy', n_jobs=-1)\n",
    "print (\"BaggingClassifier -> trafność w walidacji krzyżowej: średnia = %0.3f \\\n",
    "odch. st. = %0.3f\" % (np.mean(scores), np.std(scores)))"
   ]
  },
  {
   "cell_type": "markdown",
   "metadata": {},
   "source": [
    "### Algorytmy Random Forests i Extra-Trees"
   ]
  },
  {
   "cell_type": "code",
   "execution_count": 35,
   "metadata": {
    "collapsed": true
   },
   "outputs": [],
   "source": [
    "import numpy as np\n",
    "from sklearn.cross_validation import cross_val_score\n",
    "from sklearn.ensemble import RandomForestClassifier\n",
    "from sklearn.ensemble import ExtraTreesClassifier"
   ]
  },
  {
   "cell_type": "code",
   "execution_count": 36,
   "metadata": {
    "collapsed": false
   },
   "outputs": [
    {
     "name": "stdout",
     "output_type": "stream",
     "text": [
      "RandomForestClassifier -> trafność w walidacji krzyżowej: średnia = 0.809 odch. st. = 0.009\n",
      "Wall time: 46.8 s\n"
     ]
    }
   ],
   "source": [
    "%%time\n",
    "hypothesis = RandomForestClassifier(n_estimators=100, random_state=101)\n",
    "scores = cross_val_score(hypothesis, covertype_X, covertype_y, \n",
    "                         cv=3, scoring='accuracy', n_jobs=-1)\n",
    "print (\"RandomForestClassifier -> trafność w walidacji krzyżowej: średnia = %0.3f \\\n",
    "odch. st. = %0.3f\" % (np.mean(scores), np.std(scores)))"
   ]
  },
  {
   "cell_type": "code",
   "execution_count": 37,
   "metadata": {
    "collapsed": false
   },
   "outputs": [
    {
     "name": "stdout",
     "output_type": "stream",
     "text": [
      "ExtraTreesClassifier -> trafność w walidacji krzyżowej: średnia = 0.821 odch. st. = 0.009\n",
      "Wall time: 5.91 s\n"
     ]
    }
   ],
   "source": [
    "%%time\n",
    "hypothesis = ExtraTreesClassifier(n_estimators=100, random_state=101)\n",
    "scores = cross_val_score(hypothesis, covertype_X, covertype_y, cv=3, \n",
    "                         scoring='accuracy', n_jobs=-1)\n",
    "print (\"ExtraTreesClassifier -> trafność w walidacji krzyżowej: średnia = %0.3f \\\n",
    "odch. st. = %0.3f\" % (np.mean(scores), np.std(scores)))"
   ]
  },
  {
   "cell_type": "code",
   "execution_count": 38,
   "metadata": {
    "collapsed": false
   },
   "outputs": [],
   "source": [
    "import pickle\n",
    "from sklearn.preprocessing import scale\n",
    "X_train, y_train = pickle.load(open( \"cadata.pickle\", \"rb\" ))\n",
    "first_rows = 2000"
   ]
  },
  {
   "cell_type": "code",
   "execution_count": 39,
   "metadata": {
    "collapsed": false
   },
   "outputs": [
    {
     "name": "stdout",
     "output_type": "stream",
     "text": [
      "RandomForestClassifier -> trafność w walidacji krzyżowej: średnia = -4.642 odch. st. = 0.514\n"
     ]
    }
   ],
   "source": [
    "import numpy as np\n",
    "from sklearn.ensemble import RandomForestRegressor\n",
    "X_train = scale(X_train[:first_rows,:].toarray())\n",
    "y_train = y_train[:first_rows]/10**4.\n",
    "hypothesis = RandomForestRegressor(n_estimators=300, random_state=101)\n",
    "scores = cross_val_score(hypothesis, X_train, y_train, cv=3, \n",
    "                         scoring='mean_absolute_error', n_jobs=-1)\n",
    "print (\"RandomForestClassifier -> trafność w walidacji krzyżowej: średnia = %0.3f \\\n",
    "odch. st. = %0.3f\" % (np.mean(scores), np.std(scores)))"
   ]
  },
  {
   "cell_type": "markdown",
   "metadata": {},
   "source": [
    "### Szacowanie prawdopodobieństwa z użyciem zestawów"
   ]
  },
  {
   "cell_type": "code",
   "execution_count": 40,
   "metadata": {
    "collapsed": true
   },
   "outputs": [],
   "source": [
    "import pandas as pd\n",
    "import matplotlib.pyplot as plt\n",
    "from sklearn.calibration import CalibratedClassifierCV, calibration_curve\n",
    "hypothesis = RandomForestClassifier(n_estimators=100, random_state=101)\n",
    "calibration = CalibratedClassifierCV(hypothesis, method='sigmoid', cv=5)\n",
    "covertype_X = covertype_dataset.data[:15000,:]\n",
    "covertype_y = covertype_dataset.target[:15000]\n",
    "covertype_test_X = covertype_dataset.data[15000:25000,:]\n",
    "covertype_test_y = covertype_dataset.target[15000:25000]"
   ]
  },
  {
   "cell_type": "code",
   "execution_count": 41,
   "metadata": {
    "collapsed": false
   },
   "outputs": [],
   "source": [
    "hypothesis.fit(covertype_X,covertype_y)\n",
    "calibration.fit(covertype_X,covertype_y)\n",
    "prob_raw = hypothesis.predict_proba(covertype_test_X)\n",
    "prob_cal = calibration.predict_proba(covertype_test_X)"
   ]
  },
  {
   "cell_type": "code",
   "execution_count": 42,
   "metadata": {
    "collapsed": false
   },
   "outputs": [
    {
     "data": {
      "image/png": "[encoded data removed]",
      "text/plain": [
       "<matplotlib.figure.Figure at 0x491b184400>"
      ]
     },
     "metadata": {},
     "output_type": "display_data"
    }
   ],
   "source": [
    "%matplotlib inline\n",
    "tree_kind = covertypes.index('Ponderosa Pine')\n",
    "probs = pd.DataFrame(list(zip(prob_raw[:,tree_kind],prob_cal[:,tree_kind])), \n",
    "        columns=['Pierwotne dane','Po kalibracji'])\n",
    "plot = probs.plot(kind='scatter', x=0, y=1, s=64, c='blue', edgecolors='white')"
   ]
  },
  {
   "cell_type": "markdown",
   "metadata": {},
   "source": [
    "### Sekwencje modeli: AdaBoost"
   ]
  },
  {
   "cell_type": "code",
   "execution_count": 43,
   "metadata": {
    "collapsed": false
   },
   "outputs": [
    {
     "name": "stdout",
     "output_type": "stream",
     "text": [
      "Adaboost -> trafność w walidacji krzyżowej: średnia = 0.622 odch. st. = 0.006\n"
     ]
    }
   ],
   "source": [
    "import numpy as np\n",
    "from sklearn.ensemble import AdaBoostClassifier\n",
    "hypothesis = AdaBoostClassifier(n_estimators=300, random_state=101)\n",
    "scores = cross_val_score(hypothesis, covertype_X, covertype_y, cv=3, \n",
    "                         scoring='accuracy', n_jobs=-1)\n",
    "print (\"Adaboost -> trafność w walidacji krzyżowej: średnia = %0.3f \\\n",
    "odch. st. = %0.3f\" % (np.mean(scores), np.std(scores)))"
   ]
  },
  {
   "cell_type": "markdown",
   "metadata": {},
   "source": [
    "### Metoda GTB"
   ]
  },
  {
   "cell_type": "code",
   "execution_count": 44,
   "metadata": {
    "collapsed": false
   },
   "outputs": [],
   "source": [
    "import pickle\n",
    "covertype_dataset = pickle.load(open( \"covertype_dataset.pickle\", \"rb\" ))\n",
    "covertype_X = covertype_dataset.data[:15000,:]\n",
    "covertype_y = covertype_dataset.target[:15000] -1 \n",
    "covertype_val_X = covertype_dataset.data[15000:20000,:]\n",
    "covertype_val_y = covertype_dataset.target[15000:20000] -1\n",
    "covertype_test_X = covertype_dataset.data[20000:25000,:]\n",
    "covertype_test_y = covertype_dataset.target[20000:25000] -1"
   ]
  },
  {
   "cell_type": "code",
   "execution_count": 45,
   "metadata": {
    "collapsed": false
   },
   "outputs": [
    {
     "data": {
      "text/plain": [
       "GradientBoostingClassifier(init=None, learning_rate=0.1, loss='deviance',\n",
       "              max_depth=5, max_features=None, max_leaf_nodes=None,\n",
       "              min_samples_leaf=1, min_samples_split=2,\n",
       "              min_weight_fraction_leaf=0.0, n_estimators=50,\n",
       "              presort='auto', random_state=101, subsample=1.0, verbose=0,\n",
       "              warm_start=False)"
      ]
     },
     "execution_count": 45,
     "metadata": {},
     "output_type": "execute_result"
    }
   ],
   "source": [
    "import numpy as np\n",
    "from sklearn.cross_validation import cross_val_score, StratifiedKFold\n",
    "from sklearn.ensemble import GradientBoostingClassifier\n",
    "hypothesis = GradientBoostingClassifier(max_depth=5, \n",
    "                n_estimators=50, random_state=101)\n",
    "hypothesis.fit(covertype_X, covertype_y)\n",
    "#cv_strata = StratifiedKFold(y_train, n_folds=3, shuffle=True, random_state=101)\n",
    "#scores = cross_val_score(hypothesis, X_train, y_train, \n",
    "#                cv=cv_strata, scoring='accuracy', n_jobs=-1)\n",
    "#print (\"GradientBoostingClassifier -> trafność w walidacji krzyżowej: \\\n",
    "#średnia = %0.3f odch. st. = %0.3f\" % (np.mean(scores), np.std(scores)))"
   ]
  },
  {
   "cell_type": "code",
   "execution_count": 46,
   "metadata": {
    "collapsed": false
   },
   "outputs": [
    {
     "name": "stdout",
     "output_type": "stream",
     "text": [
      "GradientBoostingClassifier -> trafność na etapie testu: 0.782\n"
     ]
    }
   ],
   "source": [
    "from sklearn.metrics import accuracy_score\n",
    "print ('GradientBoostingClassifier -> trafność na etapie testu:', \n",
    "       accuracy_score(covertype_test_y, hypothesis.predict(covertype_test_X)))"
   ]
  },
  {
   "cell_type": "markdown",
   "metadata": {
    "collapsed": true
   },
   "source": [
    "### XGBoost"
   ]
  },
  {
   "cell_type": "code",
   "execution_count": 47,
   "metadata": {
    "collapsed": false
   },
   "outputs": [],
   "source": [
    "from sklearn.datasets import load_svmlight_file\n",
    "from sklearn.cross_validation import cross_val_score, StratifiedKFold\n",
    "import pickle\n",
    "covertype_dataset = pickle.load(open( \"covertype_dataset.pickle\", \"rb\" ))\n",
    "covertype_dataset.target = covertype_dataset.target.astype(int)\n",
    "covertype_X = covertype_dataset.data[:15000,:]\n",
    "covertype_y = covertype_dataset.target[:15000] -1 \n",
    "covertype_val_X = covertype_dataset.data[15000:20000,:]\n",
    "covertype_val_y = covertype_dataset.target[15000:20000] -1\n",
    "covertype_test_X = covertype_dataset.data[20000:25000,:]\n",
    "covertype_test_y = covertype_dataset.target[20000:25000] -1"
   ]
  },
  {
   "cell_type": "code",
   "execution_count": 48,
   "metadata": {
    "collapsed": false
   },
   "outputs": [
    {
     "data": {
      "text/plain": [
       "XGBClassifier(base_score=0.5, colsample_bylevel=1, colsample_bytree=1,\n",
       "       gamma=0.1, learning_rate=0.01, max_delta_step=0, max_depth=24,\n",
       "       min_child_weight=1, missing=None, n_estimators=500, nthread=-1,\n",
       "       objective='multi:softprob', reg_alpha=0, reg_lambda=1,\n",
       "       scale_pos_weight=1, seed=0, silent=True, subsample=0.9)"
      ]
     },
     "execution_count": 48,
     "metadata": {},
     "output_type": "execute_result"
    }
   ],
   "source": [
    "import xgboost as xgb\n",
    "hypothesis = xgb.XGBClassifier(objective= \"multi:softprob\",\n",
    "    max_depth = 24, gamma=0.1, subsample = 0.90,\n",
    "    learning_rate=0.01, n_estimators = 500, nthread=-1)\n",
    "\n",
    "hypothesis.fit(covertype_X, covertype_y, eval_set=[(covertype_val_X, covertype_val_y)], \n",
    "               eval_metric='merror', early_stopping_rounds=25, verbose=False)"
   ]
  },
  {
   "cell_type": "code",
   "execution_count": 49,
   "metadata": {
    "collapsed": false
   },
   "outputs": [
    {
     "name": "stdout",
     "output_type": "stream",
     "text": [
      "Trafność: 0.848\n",
      "[[1512  288    0    0    0    2   18]\n",
      " [ 215 2197   18    0    7   11    0]\n",
      " [   0   17  261    4    0   19    0]\n",
      " [   0    0    4   20    0    3    0]\n",
      " [   1   54    3    0   19    0    0]\n",
      " [   0   16   42    0    0   86    0]\n",
      " [  37    1    0    0    0    0  145]]\n"
     ]
    }
   ],
   "source": [
    "from sklearn.metrics import accuracy_score, confusion_matrix\n",
    "print ('Trafność:', accuracy_score(covertype_test_y, hypothesis.predict(covertype_test_X)))\n",
    "print (confusion_matrix(covertype_test_y, hypothesis.predict(covertype_test_X)))"
   ]
  },
  {
   "cell_type": "markdown",
   "metadata": {},
   "source": [
    "## Radzenie sobie z big data"
   ]
  },
  {
   "cell_type": "markdown",
   "metadata": {},
   "source": [
    "### Tworzenie przykładowych dużych zbiorów danych"
   ]
  },
  {
   "cell_type": "code",
   "execution_count": 50,
   "metadata": {
    "collapsed": false
   },
   "outputs": [
    {
     "name": "stdout",
     "output_type": "stream",
     "text": [
      "Liczba wpisów w danych: 11314\n",
      "Średnia liczba słów na wpis:206\n"
     ]
    }
   ],
   "source": [
    "import numpy as np\n",
    "import pickle\n",
    "newsgroups_dataset = pickle.load(open( \"newsgroups_dataset.pickle\", \"rb\" ))\n",
    "print ('Liczba wpisów w danych: %s' % np.shape(newsgroups_dataset.data))\n",
    "print ('Średnia liczba słów na wpis:\\\n",
    "%0.0f' % np.mean([len(text.split(' ')) for text in newsgroups_dataset.data]))"
   ]
  },
  {
   "cell_type": "code",
   "execution_count": 51,
   "metadata": {
    "collapsed": false
   },
   "outputs": [],
   "source": [
    "# Uwaga - wykonywanie tej komórki może zająć sporo czasu\n",
    "from sklearn.datasets import make_classification\n",
    "X,y = make_classification(n_samples=10**5, n_features=5, \n",
    "                          n_informative=3, random_state=101)\n",
    "D = np.c_[y,X]\n",
    "np.savetxt('huge_dataset_10__5.csv', D, delimiter=\",\") \n",
    "# Zapisany plik powinien mieć ok. 14,6 MB\n",
    "del(D, X, y)\n",
    "X,y = make_classification(n_samples=10**6, n_features=5, \n",
    "                          n_informative=3, random_state=101)\n",
    "D = np.c_[y,X]\n",
    "np.savetxt('huge_dataset_10__6.csv', D, delimiter=\",\") \n",
    "# Zapisany plik powinien mieć ok. 146 MB\n",
    "del(D, X, y)\n",
    "X,y = make_classification(n_samples=10**7, n_features=5, \n",
    "                          n_informative=3, random_state=101)\n",
    "D = np.c_[y,X]\n",
    "np.savetxt('huge_dataset_10__7.csv', D, delimiter=\",\") \n",
    "# Zapisany plik powinien mieć ok. 1,46 GB\n",
    "del(D, X, y)"
   ]
  },
  {
   "cell_type": "markdown",
   "metadata": {},
   "source": [
    "### Skalowalność ze względu na ilość danych"
   ]
  },
  {
   "cell_type": "code",
   "execution_count": 52,
   "metadata": {
    "collapsed": false
   },
   "outputs": [
    {
     "name": "stdout",
     "output_type": "stream",
     "text": [
      "Średnia trafność w walidacji progresywnej 0.660\n"
     ]
    }
   ],
   "source": [
    "from sklearn.linear_model import SGDClassifier\n",
    "from sklearn.preprocessing import MinMaxScaler\n",
    "import pandas as pd\n",
    "streaming = pd.read_csv('huge_dataset_10__7.csv', \n",
    "                        header=None, chunksize=10000)\n",
    "learner = SGDClassifier(loss='log')\n",
    "minmax_scaler = MinMaxScaler(feature_range=(0, 1))\n",
    "cumulative_accuracy = list()\n",
    "for n,chunk in enumerate(streaming):\n",
    "    if n == 0:\n",
    "            minmax_scaler.fit(chunk.ix[:,1:].values)\n",
    "    X = minmax_scaler.transform(chunk.ix[:,1:].values)\n",
    "    X[X>1] = 1\n",
    "    X[X<0] = 0  \n",
    "    y = chunk.ix[:,0]\n",
    "    if n > 8 :\n",
    "        cumulative_accuracy.append(learner.score(X,y))\n",
    "    learner.partial_fit(X,y,classes=np.unique(y))\n",
    "print ('Średnia trafność w walidacji progresywnej \\\n",
    "%0.3f' % np.mean(cumulative_accuracy))"
   ]
  },
  {
   "cell_type": "markdown",
   "metadata": {},
   "source": [
    "## Radzenie sobie z szybkością napływu danych"
   ]
  },
  {
   "cell_type": "code",
   "execution_count": 53,
   "metadata": {
    "collapsed": false
   },
   "outputs": [
    {
     "name": "stdout",
     "output_type": "stream",
     "text": [
      "SGDClassifier z funkcją straty hinge: średnia trafność 0.713, czas pracy 48.40729 s\n",
      "BernoulliNB: średnia trafność 0.734, czas pracy 53.206495 s\n",
      "PassiveAggressiveClassifier: średnia trafność 0.626, czas pracy 41.83891 s\n",
      "Perceptron: średnia trafność 0.618, czas pracy 52.376941 s\n",
      "SGDClassifier z funkcją straty log: średnia trafność 0.717, czas pracy 43.017697 s\n"
     ]
    }
   ],
   "source": [
    "from sklearn.naive_bayes import MultinomialNB\n",
    "from sklearn.naive_bayes import BernoulliNB\n",
    "from sklearn.linear_model import Perceptron\n",
    "from sklearn.linear_model import SGDClassifier\n",
    "from sklearn.linear_model import PassiveAggressiveClassifier\n",
    "import pandas as pd\n",
    "from datetime import datetime\n",
    "classifiers  = {\n",
    "'SGDClassifier z funkcją straty hinge' : SGDClassifier(loss='hinge', random_state=101),\n",
    "'SGDClassifier z funkcją straty log' : SGDClassifier(loss='log', random_state=101),\n",
    "'Perceptron' : Perceptron(random_state=101),\n",
    "'BernoulliNB' : BernoulliNB(),\n",
    "'PassiveAggressiveClassifier' : PassiveAggressiveClassifier(random_state=101)\n",
    "}\n",
    "huge_dataset = 'huge_dataset_10__6.csv'\n",
    "for algorithm in classifiers:\n",
    "    start = datetime.now()\n",
    "    minmax_scaler = MinMaxScaler(feature_range=(0, 1))\n",
    "    streaming = pd.read_csv(huge_dataset, header=None, chunksize=100)\n",
    "    learner = classifiers[algorithm]\n",
    "    cumulative_accuracy = list()\n",
    "    for n,chunk in enumerate(streaming):\n",
    "        y = chunk.ix[:,0]\n",
    "        X = chunk.ix[:,1:]\n",
    "        if n > 50 :\n",
    "            cumulative_accuracy.append(learner.score(X,y))\n",
    "        learner.partial_fit(X,y,classes=np.unique(y))\n",
    "    elapsed_time = datetime.now() - start\n",
    "    print (algorithm + ': średnia trafność %0.3f, czas pracy %s s' \\\n",
    "    % (np.mean(cumulative_accuracy),elapsed_time.total_seconds()))"
   ]
  },
  {
   "cell_type": "markdown",
   "metadata": {},
   "source": [
    "### Radzenie sobie z różnorodnością"
   ]
  },
  {
   "cell_type": "code",
   "execution_count": 54,
   "metadata": {
    "collapsed": false
   },
   "outputs": [
    {
     "name": "stdout",
     "output_type": "stream",
     "text": [
      "Wynik ostatniej walidacji: 0.724\n"
     ]
    }
   ],
   "source": [
    "import pandas as pd\n",
    "from sklearn.linear_model import SGDClassifier\n",
    "from sklearn.feature_extraction.text import HashingVectorizer\n",
    "def streaming():\n",
    "    for response, item in zip(newsgroups_dataset.target, newsgroups_dataset.data):\n",
    "        yield response, item\n",
    "hashing_trick = HashingVectorizer(stop_words='english', norm = 'l2', non_negative=True)\n",
    "learner = SGDClassifier(random_state=101)\n",
    "texts = list()\n",
    "targets = list()\n",
    "for n,(target, text) in enumerate(streaming()):\n",
    "    texts.append(text)\n",
    "    targets.append(target)\n",
    "    if n % 1000 == 0 and n >0:\n",
    "        learning_chunk = hashing_trick.transform(texts)\n",
    "        if n > 1000:\n",
    "            last_validation_score = learner.score(learning_chunk, targets),\n",
    "        learner.partial_fit(learning_chunk, targets, classes=[k for k in range(20)])\n",
    "        texts, targets = list(), list()\n",
    "print ('Wynik ostatniej walidacji: %0.3f' % last_validation_score)"
   ]
  },
  {
   "cell_type": "code",
   "execution_count": 55,
   "metadata": {
    "collapsed": false
   },
   "outputs": [
    {
     "name": "stdout",
     "output_type": "stream",
     "text": [
      "(1, 1048576) <class 'scipy.sparse.csr.csr_matrix'>\n",
      "Prognozowana grupa dyskusyjna: rec.autos\n"
     ]
    }
   ],
   "source": [
    "New_text = ['A 2014 red Toyota Prius v Five with fewer than 14K miles. Powered by a reliable 1.8L four cylinder hybrid engine that averages 44mpg in the city and 40mpg on the highway.']\n",
    "text_vector = hashing_trick.transform(New_text)\n",
    "print (np.shape(text_vector), type(text_vector))\n",
    "print ('Prognozowana grupa dyskusyjna: %s' % newsgroups_dataset.target_names[learner.predict(text_vector)[0]])"
   ]
  },
  {
   "cell_type": "markdown",
   "metadata": {},
   "source": [
    "## Krótkie omówienie przetwarzania języka naturalnego"
   ]
  },
  {
   "cell_type": "markdown",
   "metadata": {},
   "source": [
    "### Podział na tokeny"
   ]
  },
  {
   "cell_type": "code",
   "execution_count": 56,
   "metadata": {
    "collapsed": false
   },
   "outputs": [
    {
     "name": "stdout",
     "output_type": "stream",
     "text": [
      "['The', 'sexy', 'job', 'in', 'the', 'next', '10', 'years', 'will', 'be', 'statisticians.', 'People', 'think', \"I'm\", 'joking,', 'but', 'who', \"would've\", 'guessed', 'that', 'computer', 'engineers', \"would've\", 'been', 'the', 'sexy', 'job', 'of', 'the', '1990s?']\n"
     ]
    }
   ],
   "source": [
    "my_text = \"The sexy job in the next 10 years will be statisticians. People think I'm joking, but who would've guessed that computer engineers would've been the sexy job of the 1990s?\"\n",
    "simple_tokens = my_text.split(' ')\n",
    "print (simple_tokens)"
   ]
  },
  {
   "cell_type": "markdown",
   "metadata": {},
   "source": [
    "Gdy w trakcie korzystania z pakietu package natrafisz na błąd: “Resource u'tokenizers/punkt/english.pickle' not found.”, wywołaj w konsoli instrukcję: nltk.download() \n",
    "i pobierz wszystkie zasoby; możesz też pobrać sam brakujący zasób, który\n",
    "spowodował wyświetlenie ostrzeżenia."
   ]
  },
  {
   "cell_type": "code",
   "execution_count": 58,
   "metadata": {
    "collapsed": false
   },
   "outputs": [
    {
     "name": "stdout",
     "output_type": "stream",
     "text": [
      "['The', 'sexy', 'job', 'in', 'the', 'next', '10', 'years', 'will', 'be', 'statisticians', '.', 'People', 'think', 'I', \"'m\", 'joking', ',', 'but', 'who', 'would', \"'ve\", 'guessed', 'that', 'computer', 'engineers', 'would', \"'ve\", 'been', 'the', 'sexy', 'job', 'of', 'the', '1990s', '?']\n"
     ]
    }
   ],
   "source": [
    "import nltk\n",
    "nltk_tokens = nltk.word_tokenize(my_text)\n",
    "print (nltk_tokens)"
   ]
  },
  {
   "cell_type": "code",
   "execution_count": 59,
   "metadata": {
    "collapsed": false
   },
   "outputs": [
    {
     "data": {
      "text/plain": [
       "[':', 'I', 'looove', 'this', 'city', '!', '!', '!', '#love', '#foreverhere']"
      ]
     },
     "execution_count": 59,
     "metadata": {},
     "output_type": "execute_result"
    }
   ],
   "source": [
    "from nltk.tokenize import TweetTokenizer\n",
    "tt = TweetTokenizer(strip_handles=True, reduce_len=True)\n",
    "\n",
    "tweet = '@mate: I loooooooove this city!!!!!!! #love #foreverhere'\n",
    "tt.tokenize(tweet)"
   ]
  },
  {
   "cell_type": "markdown",
   "metadata": {},
   "source": [
    "### Stemming"
   ]
  },
  {
   "cell_type": "code",
   "execution_count": 60,
   "metadata": {
    "collapsed": false
   },
   "outputs": [
    {
     "name": "stdout",
     "output_type": "stream",
     "text": [
      "['the', 'sexy', 'job', 'in', 'the', 'next', '10', 'year', 'wil', 'be', 'stat', '.', 'peopl', 'think', 'i', \"'m\", 'jok', ',', 'but', 'who', 'would', \"'ve\", 'guess', 'that', 'comput', 'engin', 'would', \"'ve\", 'been', 'the', 'sexy', 'job', 'of', 'the', '1990s', '?']\n"
     ]
    }
   ],
   "source": [
    "from nltk.stem import *\n",
    "stemmer = LancasterStemmer()\n",
    "print ([stemmer.stem(word) for word in nltk_tokens])"
   ]
  },
  {
   "cell_type": "markdown",
   "metadata": {},
   "source": [
    "### Oznaczanie części mowy"
   ]
  },
  {
   "cell_type": "code",
   "execution_count": 61,
   "metadata": {
    "collapsed": false
   },
   "outputs": [
    {
     "name": "stdout",
     "output_type": "stream",
     "text": [
      "[nltk_data] Downloading package averaged_perceptron_tagger to\n",
      "[nltk_data]     C:\\Users\\tomek\\AppData\\Roaming\\nltk_data...\n",
      "[nltk_data]   Package averaged_perceptron_tagger is already up-to-\n",
      "[nltk_data]       date!\n"
     ]
    },
    {
     "data": {
      "text/plain": [
       "True"
      ]
     },
     "execution_count": 61,
     "metadata": {},
     "output_type": "execute_result"
    }
   ],
   "source": [
    "nltk.download(\"averaged_perceptron_tagger\")"
   ]
  },
  {
   "cell_type": "code",
   "execution_count": 62,
   "metadata": {
    "collapsed": false
   },
   "outputs": [
    {
     "name": "stdout",
     "output_type": "stream",
     "text": [
      "[('The', 'DT'), ('sexy', 'JJ'), ('job', 'NN'), ('in', 'IN'), ('the', 'DT'), ('next', 'JJ'), ('10', 'CD'), ('years', 'NNS'), ('will', 'MD'), ('be', 'VB'), ('statisticians', 'NNS'), ('.', '.'), ('People', 'NNS'), ('think', 'VBP'), ('I', 'PRP'), (\"'m\", 'VBP'), ('joking', 'VBG'), (',', ','), ('but', 'CC'), ('who', 'WP'), ('would', 'MD'), (\"'ve\", 'VBP'), ('guessed', 'VBN'), ('that', 'IN'), ('computer', 'NN'), ('engineers', 'NNS'), ('would', 'MD'), (\"'ve\", 'VBP'), ('been', 'VBN'), ('the', 'DT'), ('sexy', 'JJ'), ('job', 'NN'), ('of', 'IN'), ('the', 'DT'), ('1990s', 'CD'), ('?', '.')]\n"
     ]
    }
   ],
   "source": [
    "print (nltk.pos_tag(nltk_tokens))"
   ]
  },
  {
   "cell_type": "markdown",
   "metadata": {},
   "source": [
    "### Rozpoznawanie nazw własnych"
   ]
  },
  {
   "cell_type": "code",
   "execution_count": 63,
   "metadata": {
    "collapsed": false
   },
   "outputs": [
    {
     "name": "stdout",
     "output_type": "stream",
     "text": [
      "(S\n",
      "  (PERSON Elvis/NNP)\n",
      "  (PERSON Aaron/NNP Presley/NNP)\n",
      "  was/VBD\n",
      "  an/DT\n",
      "  (GPE American/JJ)\n",
      "  singer/NN\n",
      "  and/CC\n",
      "  actor/NN\n",
      "  ./.\n",
      "  Born/VBN\n",
      "  in/IN\n",
      "  (GPE Tupelo/NNP)\n",
      "  ,/,\n",
      "  (GPE Mississippi/NNP)\n",
      "  ,/,\n",
      "  when/WRB\n",
      "  (PERSON Presley/NNP)\n",
      "  was/VBD\n",
      "  13/CD\n",
      "  years/NNS\n",
      "  old/JJ\n",
      "  he/PRP\n",
      "  and/CC\n",
      "  his/PRP$\n",
      "  family/NN\n",
      "  relocated/VBD\n",
      "  to/TO\n",
      "  (GPE Memphis/NNP)\n",
      "  ,/,\n",
      "  (GPE Tennessee/NNP)\n",
      "  ./.)\n"
     ]
    }
   ],
   "source": [
    "text = \"Elvis Aaron Presley was an American singer and actor. Born in Tupelo, Mississippi, when Presley was 13 years old he and his family relocated to Memphis, Tennessee.\"\n",
    "chunks = nltk.ne_chunk(nltk.pos_tag(nltk.word_tokenize(text)))\n",
    "print (chunks)"
   ]
  },
  {
   "cell_type": "markdown",
   "metadata": {},
   "source": [
    "### Stop-słowa"
   ]
  },
  {
   "cell_type": "code",
   "execution_count": 64,
   "metadata": {
    "collapsed": false
   },
   "outputs": [
    {
     "name": "stdout",
     "output_type": "stream",
     "text": [
      "frozenset({'hundred', 'wherein', 'whoever', 'an', 'because', 'him', 'i', 'whereupon', 'if', 'he', 'move', 'nothing', 'bottom', 'everywhere', 'may', 'thus', 'you', 'or', 'latter', 'be', 'twenty', 'hereby', 'no', 'the', 'fifteen', 'down', 'not', 'please', 'itself', 'all', 'sometimes', 'thereafter', 'fill', 'full', 'such', 'else', 'three', 'out', 'well', 'thin', 'via', 'here', 'herein', 'back', 'noone', 'do', 'describe', 'who', 'why', 'hers', 'through', 'is', 'nobody', 'they', 'their', 'therein', 'next', 'eight', 'show', 'that', 'upon', 'further', 'many', 'up', 'which', 'never', 'themselves', 'one', 'another', 'myself', 'fire', 'nine', 'amoungst', 'couldnt', 'it', 'anyone', 'our', 'whenever', 'thence', 'hereupon', 'either', 'seems', 'sincere', 'until', 'above', 'how', 'this', 'whereby', 'along', 'whom', 'around', 'detail', 'done', 'due', 'wherever', 'each', 'besides', 'without', 'to', 'seem', 'moreover', 'take', 'should', 'ltd', 'been', 'about', 'whither', 'anywhere', 'onto', 'inc', 'elsewhere', 'top', 'keep', 'as', 'least', 'we', 'its', 'towards', 'thru', 'during', 'her', 'yet', 'go', 'from', 'must', 'un', 'neither', 'nowhere', 'only', 'was', 'before', 'a', 'of', 'co', 'see', 'since', 'hence', 'so', 'among', 'serious', 'cant', 'both', 'first', 'might', 'whereas', 'then', 'mill', 'very', 'on', 'but', 'get', 'had', 'indeed', 'often', 'several', 'latterly', 'than', 'against', 'throughout', 'any', 'every', 'five', 'mine', 'cry', 'found', 'sixty', 'thereby', 'empty', 'third', 'over', 'where', 'could', 'becoming', 'my', 'beside', 'everything', 'became', 'much', 'whereafter', 'below', 'within', 'in', 'nevertheless', 'now', 'already', 'his', 'into', 'bill', 'made', 'ours', 'most', 'rather', 'were', 'also', 'cannot', 're', 'everyone', 'afterwards', 'last', 'somewhere', 'something', 'therefore', 'being', 'others', 'thick', 'those', 'would', 'find', 'with', 'etc', 'himself', 'anyhow', 'whatever', 'under', 'amongst', 'twelve', 'she', 'sometime', 'thereupon', 'few', 'meanwhile', 'after', 'me', 'ever', 'yours', 'con', 'again', 'front', 'ie', 'off', 'interest', 'too', 'us', 'these', 'though', 'hereafter', 'other', 'toward', 'side', 'whole', 'put', 'eleven', 'becomes', 'between', 'anyway', 'perhaps', 'are', 'someone', 'eg', 'seeming', 'beforehand', 'ourselves', 'anything', 'namely', 'yourself', 'fify', 'four', 'give', 'for', 'same', 'nor', 'amount', 'alone', 'although', 'become', 'own', 'some', 'per', 'there', 'almost', 'am', 'mostly', 'at', 'even', 'otherwise', 'across', 'two', 'more', 'whose', 'yourselves', 'system', 'when', 'enough', 'name', 'part', 'can', 'herself', 'de', 'former', 'less', 'have', 'however', 'always', 'formerly', 'six', 'somehow', 'ten', 'whether', 'forty', 'and', 'except', 'while', 'them', 'none', 'your', 'once', 'behind', 'beyond', 'call', 'hasnt', 'what', 'by', 'has', 'whence', 'will', 'still', 'seemed', 'together'})\n"
     ]
    }
   ],
   "source": [
    "from sklearn.feature_extraction import text\n",
    "stop_words = text.ENGLISH_STOP_WORDS\n",
    "print (stop_words)"
   ]
  },
  {
   "cell_type": "code",
   "execution_count": 65,
   "metadata": {
    "collapsed": false
   },
   "outputs": [
    {
     "name": "stdout",
     "output_type": "stream",
     "text": [
      "['i', 'me', 'my', 'myself', 'we', 'our', 'ours', 'ourselves', 'you', 'your', 'yours', 'yourself', 'yourselves', 'he', 'him', 'his', 'himself', 'she', 'her', 'hers', 'herself', 'it', 'its', 'itself', 'they', 'them', 'their', 'theirs', 'themselves', 'what', 'which', 'who', 'whom', 'this', 'that', 'these', 'those', 'am', 'is', 'are', 'was', 'were', 'be', 'been', 'being', 'have', 'has', 'had', 'having', 'do', 'does', 'did', 'doing', 'a', 'an', 'the', 'and', 'but', 'if', 'or', 'because', 'as', 'until', 'while', 'of', 'at', 'by', 'for', 'with', 'about', 'against', 'between', 'into', 'through', 'during', 'before', 'after', 'above', 'below', 'to', 'from', 'up', 'down', 'in', 'out', 'on', 'off', 'over', 'under', 'again', 'further', 'then', 'once', 'here', 'there', 'when', 'where', 'why', 'how', 'all', 'any', 'both', 'each', 'few', 'more', 'most', 'other', 'some', 'such', 'no', 'nor', 'not', 'only', 'own', 'same', 'so', 'than', 'too', 'very', 's', 't', 'can', 'will', 'just', 'don', 'should', 'now', 'd', 'll', 'm', 'o', 're', 've', 'y', 'ain', 'aren', 'couldn', 'didn', 'doesn', 'hadn', 'hasn', 'haven', 'isn', 'ma', 'mightn', 'mustn', 'needn', 'shan', 'shouldn', 'wasn', 'weren', 'won', 'wouldn']\n"
     ]
    }
   ],
   "source": [
    "from nltk.corpus import stopwords\n",
    "print(stopwords.words('english'))"
   ]
  },
  {
   "cell_type": "code",
   "execution_count": 66,
   "metadata": {
    "collapsed": false
   },
   "outputs": [
    {
     "name": "stdout",
     "output_type": "stream",
     "text": [
      "['aber', 'alle', 'allem', 'allen', 'aller', 'alles', 'als', 'also', 'am', 'an', 'ander', 'andere', 'anderem', 'anderen', 'anderer', 'anderes', 'anderm', 'andern', 'anderr', 'anders', 'auch', 'auf', 'aus', 'bei', 'bin', 'bis', 'bist', 'da', 'damit', 'dann', 'der', 'den', 'des', 'dem', 'die', 'das', 'daß', 'derselbe', 'derselben', 'denselben', 'desselben', 'demselben', 'dieselbe', 'dieselben', 'dasselbe', 'dazu', 'dein', 'deine', 'deinem', 'deinen', 'deiner', 'deines', 'denn', 'derer', 'dessen', 'dich', 'dir', 'du', 'dies', 'diese', 'diesem', 'diesen', 'dieser', 'dieses', 'doch', 'dort', 'durch', 'ein', 'eine', 'einem', 'einen', 'einer', 'eines', 'einig', 'einige', 'einigem', 'einigen', 'einiger', 'einiges', 'einmal', 'er', 'ihn', 'ihm', 'es', 'etwas', 'euer', 'eure', 'eurem', 'euren', 'eurer', 'eures', 'für', 'gegen', 'gewesen', 'hab', 'habe', 'haben', 'hat', 'hatte', 'hatten', 'hier', 'hin', 'hinter', 'ich', 'mich', 'mir', 'ihr', 'ihre', 'ihrem', 'ihren', 'ihrer', 'ihres', 'euch', 'im', 'in', 'indem', 'ins', 'ist', 'jede', 'jedem', 'jeden', 'jeder', 'jedes', 'jene', 'jenem', 'jenen', 'jener', 'jenes', 'jetzt', 'kann', 'kein', 'keine', 'keinem', 'keinen', 'keiner', 'keines', 'können', 'könnte', 'machen', 'man', 'manche', 'manchem', 'manchen', 'mancher', 'manches', 'mein', 'meine', 'meinem', 'meinen', 'meiner', 'meines', 'mit', 'muss', 'musste', 'nach', 'nicht', 'nichts', 'noch', 'nun', 'nur', 'ob', 'oder', 'ohne', 'sehr', 'sein', 'seine', 'seinem', 'seinen', 'seiner', 'seines', 'selbst', 'sich', 'sie', 'ihnen', 'sind', 'so', 'solche', 'solchem', 'solchen', 'solcher', 'solches', 'soll', 'sollte', 'sondern', 'sonst', 'über', 'um', 'und', 'uns', 'unsere', 'unserem', 'unseren', 'unser', 'unseres', 'unter', 'viel', 'vom', 'von', 'vor', 'während', 'war', 'waren', 'warst', 'was', 'weg', 'weil', 'weiter', 'welche', 'welchem', 'welchen', 'welcher', 'welches', 'wenn', 'werde', 'werden', 'wie', 'wieder', 'will', 'wir', 'wird', 'wirst', 'wo', 'wollen', 'wollte', 'würde', 'würden', 'zu', 'zum', 'zur', 'zwar', 'zwischen']\n"
     ]
    }
   ],
   "source": [
    "print(stopwords.words('german'))"
   ]
  },
  {
   "cell_type": "markdown",
   "metadata": {},
   "source": [
    "### Kompletny przykład z obszaru nauki o danych - klasyfikowanie tekstu"
   ]
  },
  {
   "cell_type": "code",
   "execution_count": 67,
   "metadata": {
    "collapsed": false
   },
   "outputs": [],
   "source": [
    "from sklearn.datasets import fetch_20newsgroups\n",
    "from sklearn.feature_extraction.text import TfidfVectorizer\n",
    "from sklearn.linear_model import SGDClassifier\n",
    "from sklearn.metrics import accuracy_score\n",
    "from sklearn.datasets import fetch_20newsgroups\n",
    "categories = ['sci.med', 'sci.space']\n",
    "to_remove = ('headers', 'footers', 'quotes')\n",
    "twenty_sci_news_train = fetch_20newsgroups(subset='train', remove=to_remove, categories=categories)\n",
    "twenty_sci_news_test = fetch_20newsgroups(subset='test', remove=to_remove, categories=categories)"
   ]
  },
  {
   "cell_type": "code",
   "execution_count": 68,
   "metadata": {
    "collapsed": false
   },
   "outputs": [],
   "source": [
    "tf_vect = TfidfVectorizer()\n",
    "X_train = tf_vect.fit_transform(twenty_sci_news_train.data)\n",
    "X_test = tf_vect.transform(twenty_sci_news_test.data)\n",
    "Y_train = twenty_sci_news_train.target\n",
    "Y_test = twenty_sci_news_test.target"
   ]
  },
  {
   "cell_type": "code",
   "execution_count": 69,
   "metadata": {
    "collapsed": false
   },
   "outputs": [
    {
     "name": "stdout",
     "output_type": "stream",
     "text": [
      "Trafność = 0.889873417722\n"
     ]
    }
   ],
   "source": [
    "clf = SGDClassifier()\n",
    "clf.fit(X_train, Y_train)\n",
    "Y_pred = clf.predict(X_test)\n",
    "print (\"Trafność =\", accuracy_score(Y_test, Y_pred))"
   ]
  },
  {
   "cell_type": "code",
   "execution_count": 70,
   "metadata": {
    "collapsed": false
   },
   "outputs": [],
   "source": [
    "def clean_and_stem_text(text):\n",
    "    tokens = nltk.word_tokenize(text.lower())\n",
    "    clean_tokens = [word for word in tokens if word not in stop_words]\n",
    "    stem_tokens = [stemmer.stem(token) for token in clean_tokens]\n",
    "    return \" \".join(stem_tokens)\n",
    "cleaned_docs_train = [clean_and_stem_text(text) for text in twenty_sci_news_train.data]\n",
    "cleaned_docs_test = [clean_and_stem_text(text) for text in twenty_sci_news_test.data]"
   ]
  },
  {
   "cell_type": "code",
   "execution_count": 71,
   "metadata": {
    "collapsed": false
   },
   "outputs": [
    {
     "name": "stdout",
     "output_type": "stream",
     "text": [
      "Trafność = 0.884810126582\n"
     ]
    }
   ],
   "source": [
    "X1_train = tf_vect.fit_transform(cleaned_docs_train)\n",
    "X1_test = tf_vect.transform(cleaned_docs_test)\n",
    "clf.fit(X1_train, Y_train)\n",
    "Y1_pred = clf.predict(X1_test)\n",
    "print (\"Trafność =\", accuracy_score(Y_test, Y1_pred))"
   ]
  },
  {
   "cell_type": "markdown",
   "metadata": {},
   "source": [
    "## Przegląd technik uczenia nienadzorowanego"
   ]
  },
  {
   "cell_type": "code",
   "execution_count": 72,
   "metadata": {
    "collapsed": true
   },
   "outputs": [],
   "source": [
    "%matplotlib inline"
   ]
  },
  {
   "cell_type": "code",
   "execution_count": 73,
   "metadata": {
    "collapsed": false
   },
   "outputs": [],
   "source": [
    "import numpy as np\n",
    "import matplotlib.pyplot as plt\n",
    "from sklearn import datasets"
   ]
  },
  {
   "cell_type": "code",
   "execution_count": 74,
   "metadata": {
    "collapsed": false
   },
   "outputs": [],
   "source": [
    "N_samples = 2000\n",
    "dataset_1 = np.array(datasets.make_circles(n_samples=N_samples, noise=0.05, factor=0.3)[0])\n",
    "dataset_2 = np.array(datasets.make_blobs(n_samples=N_samples, centers=4, cluster_std=0.4, random_state=0)[0])"
   ]
  },
  {
   "cell_type": "code",
   "execution_count": 75,
   "metadata": {
    "collapsed": false
   },
   "outputs": [
    {
     "data": {
      "image/png": "[encoded data removed]",
      "text/plain": [
       "<matplotlib.figure.Figure at 0x4933dbda58>"
      ]
     },
     "metadata": {},
     "output_type": "display_data"
    }
   ],
   "source": [
    "plt.scatter(dataset_1[:,0], dataset_1[:,1], c='blue', alpha=0.8, s=64, edgecolors='white')\n",
    "plt.show()"
   ]
  },
  {
   "cell_type": "code",
   "execution_count": 76,
   "metadata": {
    "collapsed": false
   },
   "outputs": [
    {
     "data": {
      "image/png": "[encoded data removed]",
      "text/plain": [
       "<matplotlib.figure.Figure at 0x4934358b00>"
      ]
     },
     "metadata": {},
     "output_type": "display_data"
    }
   ],
   "source": [
    "plt.scatter(dataset_2[:,0], dataset_2[:,1], alpha=0.8, s=64, c='blue', edgecolors='white')\n",
    "plt.show()"
   ]
  },
  {
   "cell_type": "code",
   "execution_count": 77,
   "metadata": {
    "collapsed": false
   },
   "outputs": [],
   "source": [
    "from sklearn.cluster import KMeans\n",
    "K_dataset_1 = 2\n",
    "km_1 = KMeans(n_clusters=K_dataset_1)\n",
    "labels_1 = km_1.fit(dataset_1).labels_"
   ]
  },
  {
   "cell_type": "code",
   "execution_count": 78,
   "metadata": {
    "collapsed": false
   },
   "outputs": [
    {
     "data": {
      "image/png": "[encoded data removed]",
      "text/plain": [
       "<matplotlib.figure.Figure at 0x493438d9e8>"
      ]
     },
     "metadata": {},
     "output_type": "display_data"
    }
   ],
   "source": [
    "plt.scatter(dataset_1[:,0], dataset_1[:,1], c=labels_1, alpha=0.8, s=64, edgecolors='white')\n",
    "plt.scatter(km_1.cluster_centers_[:,0], km_1.cluster_centers_[:,1], s=200, c=np.unique(labels_1), edgecolors='black')\n",
    "plt.show()"
   ]
  },
  {
   "cell_type": "code",
   "execution_count": 79,
   "metadata": {
    "collapsed": false
   },
   "outputs": [],
   "source": [
    "K_dataset_2 = 4\n",
    "km_2 = KMeans(n_clusters=K_dataset_2)\n",
    "labels_2 = km_2.fit(dataset_2).labels_"
   ]
  },
  {
   "cell_type": "code",
   "execution_count": 80,
   "metadata": {
    "collapsed": false
   },
   "outputs": [
    {
     "data": {
      "image/png": "[encoded data removed]",
      "text/plain": [
       "<matplotlib.figure.Figure at 0x4933dde588>"
      ]
     },
     "metadata": {},
     "output_type": "display_data"
    }
   ],
   "source": [
    "plt.scatter(dataset_2[:,0], dataset_2[:,1], c=labels_2, alpha=0.8, s=64, edgecolors='white')\n",
    "plt.scatter(km_2.cluster_centers_[:,0], km_2.cluster_centers_[:,1], marker='s', s=100, c=np.unique(labels_2), edgecolors='black')\n",
    "plt.show()"
   ]
  },
  {
   "cell_type": "code",
   "execution_count": 81,
   "metadata": {
    "collapsed": false
   },
   "outputs": [],
   "source": [
    "from sklearn.cluster import DBSCAN\n",
    "dbs_1 = DBSCAN(eps=0.4)\n",
    "labels_1 = dbs_1.fit(dataset_1).labels_"
   ]
  },
  {
   "cell_type": "code",
   "execution_count": 82,
   "metadata": {
    "collapsed": false
   },
   "outputs": [
    {
     "data": {
      "image/png": "[encoded data removed]",
      "text/plain": [
       "<matplotlib.figure.Figure at 0x4933dd8400>"
      ]
     },
     "metadata": {},
     "output_type": "display_data"
    }
   ],
   "source": [
    "plt.scatter(dataset_1[:,0], dataset_1[:,1], c=labels_1, alpha=0.8, s=64, edgecolors='white')\n",
    "plt.show()"
   ]
  },
  {
   "cell_type": "code",
   "execution_count": 83,
   "metadata": {
    "collapsed": false
   },
   "outputs": [
    {
     "data": {
      "text/plain": [
       "array([0, 1], dtype=int64)"
      ]
     },
     "execution_count": 83,
     "metadata": {},
     "output_type": "execute_result"
    }
   ],
   "source": [
    "np.unique(labels_1)"
   ]
  },
  {
   "cell_type": "code",
   "execution_count": 84,
   "metadata": {
    "collapsed": false
   },
   "outputs": [],
   "source": [
    "dbs_2 = DBSCAN(eps=0.5)\n",
    "labels_2 = dbs_2.fit(dataset_2).labels_"
   ]
  },
  {
   "cell_type": "code",
   "execution_count": 85,
   "metadata": {
    "collapsed": false
   },
   "outputs": [
    {
     "data": {
      "image/png": "[encoded data removed]",
      "text/plain": [
       "<matplotlib.figure.Figure at 0x49158ab2b0>"
      ]
     },
     "metadata": {},
     "output_type": "display_data"
    }
   ],
   "source": [
    "plt.scatter(dataset_2[:,0], dataset_2[:,1], c=labels_2, alpha=0.8, s=64, edgecolors='white')\n",
    "plt.show()"
   ]
  },
  {
   "cell_type": "code",
   "execution_count": 86,
   "metadata": {
    "collapsed": false
   },
   "outputs": [
    {
     "data": {
      "text/plain": [
       "array([-1,  0,  1,  2,  3], dtype=int64)"
      ]
     },
     "execution_count": 86,
     "metadata": {},
     "output_type": "execute_result"
    }
   ],
   "source": [
    "np.unique(labels_2)"
   ]
  },
  {
   "cell_type": "markdown",
   "metadata": {},
   "source": [
    "## LDA"
   ]
  },
  {
   "cell_type": "code",
   "execution_count": 87,
   "metadata": {
    "collapsed": false
   },
   "outputs": [
    {
     "name": "stderr",
     "output_type": "stream",
     "text": [
      "c:\\Users\\tomek\\Anaconda3\\lib\\site-packages\\gensim\\utils.py:855: UserWarning: detected Windows; aliasing chunkize to chunkize_serial\n",
      "  warnings.warn(\"detected Windows; aliasing chunkize to chunkize_serial\")\n"
     ]
    },
    {
     "name": "stdout",
     "output_type": "stream",
     "text": [
      "Liczba dokumentów: 1188\n"
     ]
    }
   ],
   "source": [
    "import nltk\n",
    "import gensim\n",
    "from sklearn.datasets import fetch_20newsgroups\n",
    "\n",
    "def tokenize(text):\n",
    "    return [token.lower() for token in gensim.utils.simple_preprocess(text) \n",
    "            if token not in gensim.parsing.preprocessing.STOPWORDS]\n",
    "\n",
    "text_dataset = fetch_20newsgroups(categories=['rec.autos', \n",
    "                                              'sci.med'], \n",
    "                                  random_state=101,\n",
    "                                  remove=('headers', 'footers', \n",
    "                                          'quotes'))\n",
    "\n",
    "\n",
    "documents = text_dataset.data\n",
    "print(\"Liczba dokumentów:\", len(documents))"
   ]
  },
  {
   "cell_type": "code",
   "execution_count": 88,
   "metadata": {
    "collapsed": false
   },
   "outputs": [
    {
     "data": {
      "text/plain": [
       "'\\nI have a new doctor who gave me a prescription today for something called \\nSeptra DS.  He said it may cause GI problems and I have a sensitive stomach \\nto begin with.  Anybody ever taken this antibiotic.  Any good?  Suggestions \\nfor avoiding an upset stomach?  Other tips?\\n'"
      ]
     },
     "execution_count": 88,
     "metadata": {},
     "output_type": "execute_result"
    }
   ],
   "source": [
    "documents[0]"
   ]
  },
  {
   "cell_type": "code",
   "execution_count": 89,
   "metadata": {
    "collapsed": false
   },
   "outputs": [
    {
     "name": "stdout",
     "output_type": "stream",
     "text": [
      "Liczba tokenów: 16161\n"
     ]
    }
   ],
   "source": [
    "processed_docs = [tokenize(doc) for doc in documents]\n",
    "word_dic = gensim.corpora.Dictionary(processed_docs)\n",
    "print(\"Liczba tokenów:\", len(word_dic))"
   ]
  },
  {
   "cell_type": "code",
   "execution_count": 90,
   "metadata": {
    "collapsed": true
   },
   "outputs": [],
   "source": [
    "word_dic.filter_extremes(no_below=10, no_above=0.2)\n",
    "bow = [word_dic.doc2bow(doc) for doc in processed_docs]"
   ]
  },
  {
   "cell_type": "code",
   "execution_count": 91,
   "metadata": {
    "collapsed": true
   },
   "outputs": [],
   "source": [
    "lda_model = gensim.models.LdaMulticore(bow, num_topics=2, \n",
    "                                       id2word=word_dic, passes=10, \n",
    "                                       iterations=500)"
   ]
  },
  {
   "cell_type": "code",
   "execution_count": 92,
   "metadata": {
    "collapsed": false
   },
   "outputs": [
    {
     "data": {
      "text/plain": [
       "[(0,\n",
       "  '0.015*\"edu\" + 0.010*\"com\" + 0.009*\"people\" + 0.006*\"time\" + 0.006*\"msg\" + 0.006*\"think\" + 0.006*\"food\" + 0.006*\"doctor\" + 0.005*\"good\" + 0.005*\"pain\"'),\n",
       " (1,\n",
       "  '0.020*\"car\" + 0.008*\"new\" + 0.008*\"cars\" + 0.008*\"use\" + 0.007*\"health\" + 0.006*\"good\" + 0.005*\"time\" + 0.005*\"think\" + 0.005*\"engine\" + 0.005*\"year\"')]"
      ]
     },
     "execution_count": 92,
     "metadata": {},
     "output_type": "execute_result"
    }
   ],
   "source": [
    "lda_model.print_topics(-1)"
   ]
  },
  {
   "cell_type": "code",
   "execution_count": 93,
   "metadata": {
    "collapsed": false
   },
   "outputs": [
    {
     "name": "stdout",
     "output_type": "stream",
     "text": [
      "Wynik: 0.5644191990162971\t Temat: 0.020*\"car\" + 0.008*\"new\" + 0.008*\"cars\" + 0.008*\"use\" + 0.007*\"health\"\n",
      "Wynik: 0.4355808009837029\t Temat: 0.015*\"edu\" + 0.010*\"com\" + 0.009*\"people\" + 0.006*\"time\" + 0.006*\"msg\"\n"
     ]
    }
   ],
   "source": [
    "new_doc = \"I've shown the doctor my new car. He loved its big wheels!\"\n",
    "\n",
    "bow_doc = word_dic.doc2bow(tokenize(new_doc))\n",
    "for index, score in sorted(lda_model[bow_doc], key=lambda tup: -1*tup[1]):\n",
    "    print(\"Wynik: {}\\t Temat: {}\".format(score, lda_model.print_topic(index, 5)))"
   ]
  },
  {
   "cell_type": "markdown",
   "metadata": {
    "collapsed": true
   },
   "source": [
    "# Word2Vec"
   ]
  },
  {
   "cell_type": "code",
   "execution_count": 94,
   "metadata": {
    "collapsed": false
   },
   "outputs": [],
   "source": [
    "from nltk.corpus import movie_reviews\n",
    "from gensim.models import Word2Vec\n",
    "w2v = Word2Vec(movie_reviews.sents(), workers=4)\n",
    "w2v.init_sims(replace=True)"
   ]
  },
  {
   "cell_type": "code",
   "execution_count": 95,
   "metadata": {
    "collapsed": false
   },
   "outputs": [
    {
     "data": {
      "text/plain": [
       "[('body', 0.8885724544525146),\n",
       " ('gun', 0.8770157098770142),\n",
       " ('apartment', 0.8759454488754272),\n",
       " ('party', 0.8690564632415771),\n",
       " ('country', 0.868741512298584)]"
      ]
     },
     "execution_count": 95,
     "metadata": {},
     "output_type": "execute_result"
    }
   ],
   "source": [
    "w2v.most_similar('house', topn=5)"
   ]
  },
  {
   "cell_type": "code",
   "execution_count": 96,
   "metadata": {
    "collapsed": false
   },
   "outputs": [
    {
     "data": {
      "text/plain": [
       "[('union', 0.9333622455596924),\n",
       " ('instantaneously', 0.9290856719017029),\n",
       " ('sessions', 0.9281014204025269),\n",
       " ('loner', 0.9270448088645935),\n",
       " ('protected', 0.9257776737213135)]"
      ]
     },
     "execution_count": 96,
     "metadata": {},
     "output_type": "execute_result"
    }
   ],
   "source": [
    "w2v.most_similar('countryside', topn=5)"
   ]
  },
  {
   "cell_type": "code",
   "execution_count": 97,
   "metadata": {
    "collapsed": false
   },
   "outputs": [
    {
     "data": {
      "text/plain": [
       "array([  7.62483338e-03,  -8.83215517e-02,   1.74209997e-01,\n",
       "         4.39470746e-02,   1.95734035e-02,   4.17386852e-02,\n",
       "         2.66464055e-01,  -5.17177023e-02,  -1.09548703e-01,\n",
       "         6.74090385e-02,   1.26378201e-02,   2.61347126e-02,\n",
       "         1.35651410e-01,  -6.63510337e-02,  -1.05151743e-01,\n",
       "        -6.21871166e-02,   2.45001186e-02,   7.26276785e-02,\n",
       "         7.26784468e-02,   1.41042307e-01,  -9.57392082e-02,\n",
       "         8.48430116e-03,   7.84904882e-02,   1.10989191e-01,\n",
       "        -2.23767757e-01,   7.54587278e-02,   2.01429769e-01,\n",
       "        -3.90000944e-03,  -9.38464422e-03,   1.15490034e-01,\n",
       "         4.58892025e-02,  -6.23791330e-02,  -9.09038782e-02,\n",
       "         3.75544839e-02,  -6.76246919e-03,  -1.24810882e-01,\n",
       "        -1.93935245e-01,   1.21531468e-02,  -6.96981028e-02,\n",
       "         8.08674246e-02,  -6.78564236e-02,  -1.75444886e-01,\n",
       "         1.51197165e-01,  -1.02521434e-01,   6.81451634e-02,\n",
       "         3.03248037e-02,  -1.91933393e-01,   8.38393532e-03,\n",
       "        -6.58319965e-02,  -2.10603513e-02,  -3.70068103e-02,\n",
       "        -1.10597320e-01,  -9.02024657e-02,   3.89242917e-02,\n",
       "         1.48782628e-02,   1.51905909e-01,  -8.07643053e-04,\n",
       "         8.99095014e-02,  -1.00555159e-01,  -2.58383974e-02,\n",
       "         4.29969765e-02,  -4.40897197e-02,  -1.14261255e-01,\n",
       "         7.45993108e-02,  -1.14025757e-01,   3.62420753e-02,\n",
       "         3.97926681e-02,   2.51273420e-02,   1.53401747e-01,\n",
       "        -1.17291056e-01,  -1.92788288e-01,  -4.86358767e-03,\n",
       "         8.88860524e-02,   9.19267461e-02,  -1.64305270e-02,\n",
       "        -5.01843989e-02,   1.64102893e-02,  -1.39623478e-01,\n",
       "        -1.74621373e-01,   2.13536359e-02,  -1.87129397e-02,\n",
       "        -1.10478908e-01,   3.90500724e-02,  -7.94654265e-02,\n",
       "         6.53896406e-02,   8.37690011e-02,  -7.57913291e-02,\n",
       "         5.35153933e-02,   4.89109978e-02,   3.35569144e-03,\n",
       "         1.83877707e-01,   1.37471989e-01,   3.99870500e-02,\n",
       "        -6.25553221e-05,  -2.54663378e-01,  -8.55829418e-02,\n",
       "         5.50092794e-02,  -1.04080297e-01,   1.33989736e-01,\n",
       "        -1.19370848e-01], dtype=float32)"
      ]
     },
     "execution_count": 97,
     "metadata": {},
     "output_type": "execute_result"
    }
   ],
   "source": [
    "w2v['countryside']"
   ]
  },
  {
   "cell_type": "code",
   "execution_count": 98,
   "metadata": {
    "collapsed": false
   },
   "outputs": [
    {
     "data": {
      "text/plain": [
       "[('man', 0.8458656072616577),\n",
       " ('boy', 0.7745509147644043),\n",
       " ('girl', 0.7647771835327148)]"
      ]
     },
     "execution_count": 98,
     "metadata": {},
     "output_type": "execute_result"
    }
   ],
   "source": [
    "w2v.most_similar(positive=['woman', 'king'], negative=['queen'], topn=3)"
   ]
  },
  {
   "cell_type": "code",
   "execution_count": 99,
   "metadata": {
    "collapsed": false
   },
   "outputs": [
    {
     "data": {
      "text/plain": [
       "'cake'"
      ]
     },
     "execution_count": 99,
     "metadata": {},
     "output_type": "execute_result"
    }
   ],
   "source": [
    "w2v.doesnt_match(['bed', 'pillow', 'cake', 'mattress'])"
   ]
  },
  {
   "cell_type": "code",
   "execution_count": 100,
   "metadata": {
    "collapsed": false
   },
   "outputs": [
    {
     "data": {
      "text/plain": [
       "(0.9038730912362628, 0.83002170498343864)"
      ]
     },
     "execution_count": 100,
     "metadata": {},
     "output_type": "execute_result"
    }
   ],
   "source": [
    "w2v.similarity('woman', 'girl'), w2v.similarity('woman', 'boy')"
   ]
  },
  {
   "cell_type": "code",
   "execution_count": null,
   "metadata": {
    "collapsed": true
   },
   "outputs": [],
   "source": []
  }
 ],
 "metadata": {
  "kernelspec": {
   "display_name": "Python [Root]",
   "language": "python",
   "name": "Python [Root]"
  },
  "language_info": {
   "codemirror_mode": {
    "name": "ipython",
    "version": 3
   },
   "file_extension": ".py",
   "mimetype": "text/x-python",
   "name": "python",
   "nbconvert_exporter": "python",
   "pygments_lexer": "ipython3",
   "version": "3.5.2"
  }
 },
 "nbformat": 4,
 "nbformat_minor": 0
}
