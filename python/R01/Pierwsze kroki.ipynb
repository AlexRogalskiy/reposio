{
 "cells": [
  {
   "cell_type": "markdown",
   "metadata": {},
   "source": [
    "Najpierw sprawdź wersję Pythona zainstalowaną w komputerze. Pamiętaj, że do uruchomienia przykładów potrzebujesz wersji 3.4 lub nowszej."
   ]
  },
  {
   "cell_type": "code",
   "execution_count": 1,
   "metadata": {
    "collapsed": false
   },
   "outputs": [
    {
     "name": "stdout",
     "output_type": "stream",
     "text": [
      "Używana wersja Pythona to:  3.4.5 |Anaconda 4.3.0 (64-bit)| (default, Jul  5 2016, 14:53:07) [MSC v.1600 64 bit (AMD64)]\n"
     ]
    }
   ],
   "source": [
    "import sys\n",
    "print (\"Używana wersja Pythona to: \", sys.version)"
   ]
  },
  {
   "cell_type": "markdown",
   "metadata": {},
   "source": [
    "Teraz sprawdź, czy wszystkie potrzebne pakiety narzędzi są zainstalowane i poprawnie działają:"
   ]
  },
  {
   "cell_type": "code",
   "execution_count": 11,
   "metadata": {
    "collapsed": false
   },
   "outputs": [],
   "source": [
    "errors = 0"
   ]
  },
  {
   "cell_type": "code",
   "execution_count": 3,
   "metadata": {
    "collapsed": false
   },
   "outputs": [
    {
     "name": "stdout",
     "output_type": "stream",
     "text": [
      "Pakiet Numpy zainstalowany. Wersja: 1.11.3\n"
     ]
    }
   ],
   "source": [
    "try:\n",
    "    import numpy as np\n",
    "    print (\"Pakiet Numpy zainstalowany. Wersja:\", np.__version__)\n",
    "except ImportError:\n",
    "    print (\"Pakiet Numpy nie jest zainstalowany!\")\n",
    "    errors += 1"
   ]
  },
  {
   "cell_type": "code",
   "execution_count": 4,
   "metadata": {
    "collapsed": false
   },
   "outputs": [
    {
     "name": "stdout",
     "output_type": "stream",
     "text": [
      "Pakiet Scipy zainstalowany. Wersja: 0.18.1\n"
     ]
    }
   ],
   "source": [
    "try:\n",
    "    import scipy\n",
    "    print (\"Pakiet Scipy zainstalowany. Wersja:\", scipy.__version__)\n",
    "except ImportError:\n",
    "    print (\"Pakiet Scipy nie jest zainstalowany!\")\n",
    "    errors += 1"
   ]
  },
  {
   "cell_type": "code",
   "execution_count": 5,
   "metadata": {
    "collapsed": false
   },
   "outputs": [
    {
     "name": "stdout",
     "output_type": "stream",
     "text": [
      "Pakiet Matplotlib zainstalowany. Wersja: 2.0.0\n"
     ]
    }
   ],
   "source": [
    "try:\n",
    "    import matplotlib\n",
    "    print (\"Pakiet Matplotlib zainstalowany. Wersja:\", matplotlib.__version__)\n",
    "except ImportError:\n",
    "    print (\"Pakiet Matplotlib nie jest zainstalowany!\")\n",
    "    errors += 1"
   ]
  },
  {
   "cell_type": "code",
   "execution_count": 6,
   "metadata": {
    "collapsed": false
   },
   "outputs": [
    {
     "name": "stdout",
     "output_type": "stream",
     "text": [
      "Pakiet sklearn zainstalowany. Wersja: 0.18.1\n"
     ]
    }
   ],
   "source": [
    "try:\n",
    "    import sklearn\n",
    "    print (\"Pakiet sklearn zainstalowany. Wersja:\", sklearn.__version__)\n",
    "except ImportError:\n",
    "    print (\"Pakiet sklearn nie jest zainstalowany!\")\n",
    "    errors += 1"
   ]
  },
  {
   "cell_type": "code",
   "execution_count": 7,
   "metadata": {
    "collapsed": false
   },
   "outputs": [
    {
     "name": "stdout",
     "output_type": "stream",
     "text": [
      "Pakiet Beautifulsoup4 zainstalowany. Wersja: 4.4.1\n"
     ]
    }
   ],
   "source": [
    "try:\n",
    "    import bs4\n",
    "    print (\"Pakiet Beautifulsoup4 zainstalowany. Wersja:\", bs4.__version__)\n",
    "except ImportError:\n",
    "    print (\"Pakiet Beautifulsoup4  is not installed!\")\n",
    "    errors += 1"
   ]
  },
  {
   "cell_type": "code",
   "execution_count": 8,
   "metadata": {
    "collapsed": false
   },
   "outputs": [
    {
     "name": "stdout",
     "output_type": "stream",
     "text": [
      "Pakiet Networkx zainstalowany. Wersja: 1.11\n"
     ]
    }
   ],
   "source": [
    "try:\n",
    "    import networkx\n",
    "    print (\"Pakiet Networkx zainstalowany. Wersja:\", networkx.__version__)\n",
    "except ImportError:\n",
    "    print (\"Pakiet Networkx nie jest zainstalowany!\")\n",
    "    errors += 1"
   ]
  },
  {
   "cell_type": "code",
   "execution_count": 9,
   "metadata": {
    "collapsed": false
   },
   "outputs": [
    {
     "name": "stdout",
     "output_type": "stream",
     "text": [
      "Pakiet Nltk zainstalowany. Wersja: 3.2.1\n"
     ]
    }
   ],
   "source": [
    "try:\n",
    "    import nltk\n",
    "    print (\"Pakiet Nltk zainstalowany. Wersja:\", nltk.__version__)\n",
    "except ImportError:\n",
    "    print (\"Pakiet Nltk nie jest zainstalowany!\")\n",
    "    errors += 1"
   ]
  },
  {
   "cell_type": "code",
   "execution_count": 14,
   "metadata": {
    "collapsed": false
   },
   "outputs": [
    {
     "name": "stdout",
     "output_type": "stream",
     "text": [
      "Pakiet Gensim zainstalowany. Wersja: 0.13.4.1\n"
     ]
    }
   ],
   "source": [
    "try:\n",
    "    import gensim\n",
    "    print (\"Pakiet Gensim zainstalowany. Wersja:\", gensim.__version__)\n",
    "except ImportError:\n",
    "    print (\"Pakiet Gensim nie jest zainstalowany!\")\n",
    "    errors += 1"
   ]
  },
  {
   "cell_type": "code",
   "execution_count": 1,
   "metadata": {
    "collapsed": false
   },
   "outputs": [
    {
     "name": "stdout",
     "output_type": "stream",
     "text": [
      "Pakiet XGBoost zainstalowany. Wersja: 0.6\n"
     ]
    }
   ],
   "source": [
    "try:\n",
    "    import xgboost\n",
    "    print (\"Pakiet XGBoost zainstalowany. Wersja:\", xgboost.__version__)\n",
    "except ImportError:\n",
    "    print (\"Pakiet XGBoost nie jest zainstalowany!\")\n",
    "    errors += 1"
   ]
  },
  {
   "cell_type": "code",
   "execution_count": 9,
   "metadata": {
    "collapsed": false
   },
   "outputs": [
    {
     "name": "stdout",
     "output_type": "stream",
     "text": [
      "Pakiet Theano zainstalowany. Wersja: 0.8.2\n"
     ]
    }
   ],
   "source": [
    "try:\n",
    "    import theano\n",
    "    print (\"Pakiet Theano zainstalowany. Wersja:\", theano.__version__)\n",
    "\n",
    "except ImportError:\n",
    "    print (\"Pakiet Theano nie jest zainstalowany!\")\n",
    "    errors += 1"
   ]
  },
  {
   "cell_type": "code",
   "execution_count": 10,
   "metadata": {
    "collapsed": false
   },
   "outputs": [
    {
     "name": "stdout",
     "output_type": "stream",
     "text": [
      "Pakiet Keras zainstalowany. Wersja: 1.0.3\n"
     ]
    }
   ],
   "source": [
    "try:\n",
    "    import keras\n",
    "    import pkg_resources\n",
    "    vs = pkg_resources.get_distribution(\"keras\").version\n",
    "    print (\"Pakiet Keras zainstalowany. Wersja:\", vs)\n",
    "except ImportError:\n",
    "    print (\"Pakiet Keras nie jest zainstalowany!\")\n",
    "    errors += 1"
   ]
  },
  {
   "cell_type": "markdown",
   "metadata": {},
   "source": [
    "To wewnątrzwierszowe równanie $\\LaTeX-owe$: $x = Ax+b$\n",
    "\n",
    "A to wzór jednowierszowy: $$x = Ax + b$$"
   ]
  },
  {
   "cell_type": "code",
   "execution_count": null,
   "metadata": {
    "collapsed": false
   },
   "outputs": [],
   "source": [
    "%%latex\n",
    "\\[\n",
    " |u(t)| = \n",
    "  \\begin{cases} \n",
    "   u(t) & \\text{jeśli } t \\geq 0 \\\\\n",
    "   -u(t)       & \\text{w przeciwnym razie }\n",
    "  \\end{cases}\n",
    "\\]"
   ]
  },
  {
   "cell_type": "code",
   "execution_count": 15,
   "metadata": {
    "collapsed": false
   },
   "outputs": [
    {
     "data": {
      "text/latex": [
       "\\begin{align}\n",
       "f(x) &= (a+b)^2 \\\\\n",
       "     &= a^2 + (a+b) + (a+b) + b^2 \\\\\n",
       "     &= a^2 + 2\\cdot (a+b) + b^2\n",
       "\\end{align}"
      ],
      "text/plain": [
       "<IPython.core.display.Latex object>"
      ]
     },
     "metadata": {},
     "output_type": "display_data"
    }
   ],
   "source": [
    "%%latex\n",
    "\\begin{align}\n",
    "f(x) &= (a+b)^2 \\\\\n",
    "     &= a^2 + (a+b) + (a+b) + b^2 \\\\\n",
    "     &= a^2 + 2\\cdot (a+b) + b^2\n",
    "\\end{align}"
   ]
  },
  {
   "cell_type": "markdown",
   "metadata": {},
   "source": [
    "A oto wynik testów:"
   ]
  },
  {
   "cell_type": "code",
   "execution_count": 12,
   "metadata": {
    "collapsed": false
   },
   "outputs": [
    {
     "name": "stdout",
     "output_type": "stream",
     "text": [
      "Twój komputer potrafi wykonać przykładowy kod\n"
     ]
    }
   ],
   "source": [
    "if errors == 0:\n",
    "    print (\"Twój komputer potrafi wykonać przykładowy kod\")\n",
    "else:\n",
    "    print (\"Liczba wykrytych błędów: %i. Sprawdź je i zainstaluj brakujące pakiety\" % errors)"
   ]
  },
  {
   "cell_type": "code",
   "execution_count": null,
   "metadata": {
    "collapsed": true
   },
   "outputs": [],
   "source": []
  }
 ],
 "metadata": {
  "anaconda-cloud": {},
  "kernelspec": {
   "display_name": "Python 3",
   "language": "python",
   "name": "python3"
  },
  "language_info": {
   "codemirror_mode": {
    "name": "ipython",
    "version": 3
   },
   "file_extension": ".py",
   "mimetype": "text/x-python",
   "name": "python",
   "nbconvert_exporter": "python",
   "pygments_lexer": "ipython3",
   "version": "3.4.5"
  }
 },
 "nbformat": 4,
 "nbformat_minor": 0
}
